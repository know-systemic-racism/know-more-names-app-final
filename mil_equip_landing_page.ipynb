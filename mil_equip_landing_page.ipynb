{
  "cells": [
    {
      "cell_type": "raw",
      "metadata": {},
      "source": [
        "---\n",
        "title: \"Military Equipment\"\n",
        "execute:\n",
        "    echo: false\n",
        "css: \"/assets/dist/css/bootstrap.min.css\"\n",
        "---"
      ],
      "id": "3e0de7f8"
    },
    {
      "cell_type": "code",
      "metadata": {},
      "source": [
        "import pandas as pd"
      ],
      "id": "65911e27",
      "execution_count": null,
      "outputs": []
    },
    {
      "cell_type": "code",
      "metadata": {},
      "source": [
        "# Dictionary with sheet ids of all LEAs we have military equipment inventories of \n",
        "lea_codes = ['SB978-285', 'SB978-002', 'SB978-325', 'SB978-541', 'SB978-413', 'SB978-800', 'SB978-740', 'SB978-457', 'SB978-021', 'SB978-083', 'SB978-085', 'SB978-100', 'SB978-165', 'SB978-175', 'SB978-197', 'SB978-192', 'SB978-200', 'SB978-258', 'SB978-276', 'SB978-284', 'SB978-373', 'SB978-381', 'SB978-392', 'SB978-403', 'SB978-412', 'SB978-422', 'SB978-447', 'SB978-460', 'SB978-463', 'SB978-492', 'SB978-584', 'SB978-603', 'SB978-620']\n",
        "sheet_name = \"1dsamURzIy5GHmL-ye9hziy1mnou2kzjQbHuZ-3e9mAM\""
      ],
      "id": "edaa84d5",
      "execution_count": null,
      "outputs": []
    },
    {
      "cell_type": "code",
      "metadata": {},
      "source": [
        "# retrieve all inventories, isolate only the names of the items, and concat all dfs\n",
        "dfs = []\n",
        "i = 0\n",
        "for sheet_id in lea_codes: \n",
        "    url = f\"https://docs.google.com/spreadsheets/d/{sheet_name}/gviz/tq?tqx=out:csv&sheet={sheet_id}\"\n",
        "    complete_df = pd.read_csv(url)\n",
        "    just_equip_names = complete_df['Equipment name / Description']\n",
        "    dfs.append(just_equip_names)\n",
        "    i += 1\n",
        "all_mil_equip = pd.concat(dfs)"
      ],
      "id": "1d532ed9",
      "execution_count": null,
      "outputs": []
    },
    {
      "cell_type": "code",
      "metadata": {},
      "source": [
        "# get rid of all repeat names in column/df\n",
        "no_dupes = all_mil_equip.drop_duplicates()\n",
        "results = []\n",
        "for mil_equip in no_dupes:\n",
        "    results.append({'name': mil_equip})\n",
        "\n",
        "print(results)\n",
        "ojs_define(mil_equip_data = results)"
      ],
      "id": "ad01f53d",
      "execution_count": null,
      "outputs": []
    },
    {
      "cell_type": "markdown",
      "metadata": {},
      "source": [
        "```{ojs}\n",
        "viewof mil_equip_search = Inputs.search(mil_equip_data, \n",
        "{placeholder: \"Enter a Military Equipment Name\", \n",
        "width: 1500,\n",
        "label: \"Search Military Equipment\"\n",
        "})\n",
        "\n",
        "viewof mil_equip_rows = Inputs.table(mil_equip_search, {\n",
        "  columns: [\n",
        "    'name',\n",
        "  ],\n",
        "  format: {\n",
        "    'name': x => htl.html`<a href=${x} target=_blank>${x}</a>`,\n",
        "  },\n",
        "  width: { \n",
        "    name: 900,\n",
        "  },\n",
        "})\n",
        "```"
      ],
      "id": "58a9483b"
    }
  ],
  "metadata": {
    "kernelspec": {
      "name": "python3",
      "language": "python",
      "display_name": "Python 3 (ipykernel)"
    }
  },
  "nbformat": 4,
  "nbformat_minor": 5
}